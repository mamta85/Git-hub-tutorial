{
  "nbformat": 4,
  "nbformat_minor": 0,
  "metadata": {
    "colab": {
      "provenance": [],
      "authorship_tag": "ABX9TyNbqfFUE2aP/mMcLQ1BVa5e",
      "include_colab_link": true
    },
    "kernelspec": {
      "name": "python3",
      "display_name": "Python 3"
    },
    "language_info": {
      "name": "python"
    }
  },
  "cells": [
    {
      "cell_type": "markdown",
      "metadata": {
        "id": "view-in-github",
        "colab_type": "text"
      },
      "source": [
        "<a href=\"https://colab.research.google.com/github/mamta85/Git-hub-tutorial/blob/master/Untitled25.ipynb\" target=\"_parent\"><img src=\"https://colab.research.google.com/assets/colab-badge.svg\" alt=\"Open In Colab\"/></a>"
      ]
    },
    {
      "cell_type": "code",
      "execution_count": 13,
      "metadata": {
        "colab": {
          "base_uri": "https://localhost:8080/",
          "height": 211
        },
        "id": "ze2kJHnHtS7q",
        "outputId": "d5e323d5-fbea-4628-91d8-1c071ffbb2a9"
      },
      "outputs": [
        {
          "output_type": "stream",
          "name": "stdout",
          "text": [
            "Requirement already satisfied: google-play-scraper in /usr/local/lib/python3.11/dist-packages (1.2.7)\n",
            "Fetching reviews for com.google.android.wearable.app...\n",
            "Error fetching page 1 of com.google.android.wearable.app: name 'play_scraper' is not defined\n",
            "Fetching reviews for com.facer.android...\n",
            "Error fetching page 1 of com.facer.android: name 'play_scraper' is not defined\n",
            "Fetching reviews for com.mobvoi.ticwear...\n",
            "Error fetching page 1 of com.mobvoi.ticwear: name 'play_scraper' is not defined\n",
            "Fetching reviews for com.samsung.android.gearmanager...\n",
            "Error fetching page 1 of com.samsung.android.gearmanager: name 'play_scraper' is not defined\n",
            "Saved 0 reviews to watch_apps_reviews.csv\n"
          ]
        },
        {
          "output_type": "display_data",
          "data": {
            "text/plain": [
              "<IPython.core.display.Javascript object>"
            ],
            "application/javascript": [
              "\n",
              "    async function download(id, filename, size) {\n",
              "      if (!google.colab.kernel.accessAllowed) {\n",
              "        return;\n",
              "      }\n",
              "      const div = document.createElement('div');\n",
              "      const label = document.createElement('label');\n",
              "      label.textContent = `Downloading \"${filename}\": `;\n",
              "      div.appendChild(label);\n",
              "      const progress = document.createElement('progress');\n",
              "      progress.max = size;\n",
              "      div.appendChild(progress);\n",
              "      document.body.appendChild(div);\n",
              "\n",
              "      const buffers = [];\n",
              "      let downloaded = 0;\n",
              "\n",
              "      const channel = await google.colab.kernel.comms.open(id);\n",
              "      // Send a message to notify the kernel that we're ready.\n",
              "      channel.send({})\n",
              "\n",
              "      for await (const message of channel.messages) {\n",
              "        // Send a message to notify the kernel that we're ready.\n",
              "        channel.send({})\n",
              "        if (message.buffers) {\n",
              "          for (const buffer of message.buffers) {\n",
              "            buffers.push(buffer);\n",
              "            downloaded += buffer.byteLength;\n",
              "            progress.value = downloaded;\n",
              "          }\n",
              "        }\n",
              "      }\n",
              "      const blob = new Blob(buffers, {type: 'application/binary'});\n",
              "      const a = document.createElement('a');\n",
              "      a.href = window.URL.createObjectURL(blob);\n",
              "      a.download = filename;\n",
              "      div.appendChild(a);\n",
              "      a.click();\n",
              "      div.remove();\n",
              "    }\n",
              "  "
            ]
          },
          "metadata": {}
        },
        {
          "output_type": "display_data",
          "data": {
            "text/plain": [
              "<IPython.core.display.Javascript object>"
            ],
            "application/javascript": [
              "download(\"download_9acd4044-0f28-4ef1-9bf2-52fcefbb24dd\", \"watch_apps_reviews.csv\", 1)"
            ]
          },
          "metadata": {}
        }
      ],
      "source": [
        "!pip install google-play-scraper\n",
        "import pandas as pd\n",
        "from google.colab import files\n",
        "\n",
        "# Step 3: List of Watch app package names\n",
        "app_ids = [\n",
        "    \"com.google.android.wearable.app\",        # Wear OS by Google\n",
        "    \"com.facer.android\",                       # Facer Watch Faces\n",
        "    \"com.mobvoi.ticwear\",                      # Mobvoi Ticwear\n",
        "    \"com.samsung.android.gearmanager\"         # Samsung Galaxy Wearable\n",
        "]\n",
        "\n",
        "# Step 4: Function to scrape reviews for one app\n",
        "def scrape_reviews(app_package_name, max_pages=5):\n",
        "    all_reviews = []\n",
        "    for page in range(1, max_pages + 1):\n",
        "        try:\n",
        "            reviews = play_scraper.reviews(app_package_name, page=page)\n",
        "            if not reviews:\n",
        "                break\n",
        "            all_reviews.extend(reviews)\n",
        "        except Exception as e:\n",
        "            print(f\"Error fetching page {page} of {app_package_name}: {e}\")\n",
        "            break\n",
        "    return all_reviews\n",
        "\n",
        "# Step 5: Scrape reviews for all apps and add app_id info\n",
        "all_reviews = []\n",
        "for app_id in app_ids:\n",
        "    print(f\"Fetching reviews for {app_id}...\")\n",
        "    reviews = scrape_reviews(app_id, max_pages=5)  # Adjust max_pages if you want more/less reviews\n",
        "    for review in reviews:\n",
        "        review['app_id'] = app_id\n",
        "    all_reviews.extend(reviews)\n",
        "\n",
        "# Step 6: Convert to DataFrame and save CSV\n",
        "df = pd.DataFrame(all_reviews)\n",
        "csv_filename = \"watch_apps_reviews.csv\"\n",
        "df.to_csv(csv_filename, index=False)\n",
        "print(f\"Saved {len(df)} reviews to {csv_filename}\")\n",
        "\n",
        "# Step 7: Download the CSV file\n",
        "files.download(csv_filename)\n",
        "\n"
      ]
    }
  ]
}