{
  "nbformat": 4,
  "nbformat_minor": 0,
  "metadata": {
    "colab": {
      "provenance": [],
      "authorship_tag": "ABX9TyO5WgS/ULozXJDTv14bAcFH",
      "include_colab_link": true
    },
    "kernelspec": {
      "name": "python3",
      "display_name": "Python 3"
    },
    "language_info": {
      "name": "python"
    }
  },
  "cells": [
    {
      "cell_type": "markdown",
      "metadata": {
        "id": "view-in-github",
        "colab_type": "text"
      },
      "source": [
        "<a href=\"https://colab.research.google.com/github/mamta85/Git-hub-tutorial/blob/master/Untitled38_cleaning.ipynb\" target=\"_parent\"><img src=\"https://colab.research.google.com/assets/colab-badge.svg\" alt=\"Open In Colab\"/></a>"
      ]
    },
    {
      "cell_type": "code",
      "execution_count": 4,
      "metadata": {
        "colab": {
          "base_uri": "https://localhost:8080/"
        },
        "id": "4VIofdrzji2E",
        "outputId": "8e58c32c-71a7-4967-b78f-b258da31a2af"
      },
      "outputs": [
        {
          "output_type": "stream",
          "name": "stdout",
          "text": [
            "Drive already mounted at /content/drive; to attempt to forcibly remount, call drive.mount(\"/content/drive\", force_remount=True).\n",
            "Requirement already satisfied: nltk in /usr/local/lib/python3.11/dist-packages (3.9.1)\n",
            "Requirement already satisfied: click in /usr/local/lib/python3.11/dist-packages (from nltk) (8.2.1)\n",
            "Requirement already satisfied: joblib in /usr/local/lib/python3.11/dist-packages (from nltk) (1.5.1)\n",
            "Requirement already satisfied: regex>=2021.8.3 in /usr/local/lib/python3.11/dist-packages (from nltk) (2024.11.6)\n",
            "Requirement already satisfied: tqdm in /usr/local/lib/python3.11/dist-packages (from nltk) (4.67.1)\n"
          ]
        },
        {
          "output_type": "stream",
          "name": "stderr",
          "text": [
            "[nltk_data] Downloading package stopwords to /root/nltk_data...\n",
            "[nltk_data]   Package stopwords is already up-to-date!\n",
            "[nltk_data] Downloading package punkt to /root/nltk_data...\n",
            "[nltk_data]   Package punkt is already up-to-date!\n",
            "[nltk_data] Downloading package punkt_tab to /root/nltk_data...\n",
            "[nltk_data]   Unzipping tokenizers/punkt_tab.zip.\n"
          ]
        },
        {
          "output_type": "stream",
          "name": "stdout",
          "text": [
            "Found 6 chunk files:\n",
            "['Medisafe_Pill_Reminder_chunk_1749543627.csv', 'Medisafe_Pill_Reminder_chunk_1749543678.csv', 'Medisafe_Pill_Reminder_chunk_1749543880.csv', 'Medisafe_Pill_Reminder_chunk_5.csv', 'Medisafe_Pill_Reminder_chunk_6.csv', 'MyFitnessPal_chunk_1749615580.csv']\n",
            "Total reviews combined: 124000\n",
            "✅ Cleaned reviews saved at: /content/drive/MyDrive/Health_Reviews/Combined_Cleaned_Reviews.csv\n"
          ]
        }
      ],
      "source": [
        "# Mount Google Drive\n",
        "from google.colab import drive\n",
        "drive.mount('/content/drive')\n",
        "\n",
        "# Install NLTK\n",
        "!pip install nltk\n",
        "import os\n",
        "import pandas as pd\n",
        "import nltk\n",
        "import re\n",
        "from nltk.corpus import stopwords\n",
        "from nltk.stem import PorterStemmer\n",
        "\n",
        "# Download required NLTK data\n",
        "nltk.download('stopwords')\n",
        "nltk.download('punkt')\n",
        "# Download the missing resource\n",
        "nltk.download('punkt_tab')\n",
        "\n",
        "# Change this to your actual folder path in Google Drive\n",
        "folder_path = '/content/drive/MyDrive/Health_Reviews'\n",
        "\n",
        "# Get all review chunk files (e.g., *_chunk_1.csv, *_chunk_2.csv)\n",
        "csv_files = sorted([f for f in os.listdir(folder_path) if f.endswith('.csv') and 'chunk' in f])\n",
        "print(f\"Found {len(csv_files)} chunk files:\")\n",
        "print(csv_files)\n",
        "# Combine all chunks into a single DataFrame\n",
        "all_dfs = []\n",
        "for f in csv_files:\n",
        "    full_path = os.path.join(folder_path, f)\n",
        "    df = pd.read_csv(full_path)\n",
        "    df['source_file'] = f  # track source file\n",
        "    all_dfs.append(df)\n",
        "\n",
        "combined_df = pd.concat(all_dfs, ignore_index=True)\n",
        "print(f\"Total reviews combined: {len(combined_df)}\")\n",
        "combined_df[['content']].head()\n",
        "stop_words = set(stopwords.words('english'))\n",
        "stemmer = PorterStemmer()\n",
        "\n",
        "def preprocess_text(text):\n",
        "    text = text.lower()\n",
        "    text = re.sub(r\"http\\S+|www\\S+|<.*?>\", \"\", text)\n",
        "    text = re.sub(r\"[^a-zA-Z\\s]\", \"\", text)\n",
        "    tokens = nltk.word_tokenize(text)\n",
        "    tokens = [stemmer.stem(word) for word in tokens if word not in stop_words and len(word) > 2]\n",
        "    return \" \".join(tokens)\n",
        "    # Apply to \"content\" column\n",
        "combined_df['cleaned_content'] = combined_df['content'].astype(str).apply(preprocess_text)\n",
        "\n",
        "# Preview\n",
        "combined_df[['content', 'cleaned_content']].head()\n",
        "# Output cleaned CSV\n",
        "output_path = os.path.join(folder_path, \"Combined_Cleaned_Reviews.csv\")\n",
        "combined_df.to_csv(output_path, index=False)\n",
        "\n",
        "print(f\"✅ Cleaned reviews saved at: {output_path}\")\n"
      ]
    }
  ]
}