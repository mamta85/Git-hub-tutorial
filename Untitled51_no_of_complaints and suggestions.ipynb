{
  "nbformat": 4,
  "nbformat_minor": 0,
  "metadata": {
    "colab": {
      "provenance": [],
      "authorship_tag": "ABX9TyNsKnUmXC6xyffXokWj9mSk",
      "include_colab_link": true
    },
    "kernelspec": {
      "name": "python3",
      "display_name": "Python 3"
    },
    "language_info": {
      "name": "python"
    }
  },
  "cells": [
    {
      "cell_type": "markdown",
      "metadata": {
        "id": "view-in-github",
        "colab_type": "text"
      },
      "source": [
        "<a href=\"https://colab.research.google.com/github/mamta85/Git-hub-tutorial/blob/master/Untitled51_no_of_complaints%20and%20suggestions.ipynb\" target=\"_parent\"><img src=\"https://colab.research.google.com/assets/colab-badge.svg\" alt=\"Open In Colab\"/></a>"
      ]
    },
    {
      "cell_type": "code",
      "execution_count": 4,
      "metadata": {
        "colab": {
          "base_uri": "https://localhost:8080/"
        },
        "id": "7J-6wel8i1Wt",
        "outputId": "c44c4d19-a1a9-44e3-e294-6650676ba6fe"
      },
      "outputs": [
        {
          "output_type": "stream",
          "name": "stdout",
          "text": [
            "Drive already mounted at /content/drive; to attempt to forcibly remount, call drive.mount(\"/content/drive\", force_remount=True).\n",
            "✅ Suggestion Keyword Counts:\n",
            "{'feature': 3261, 'option': 2671, 'could': 3675, 'wish': 2246, 'need': 7109, 'support': 1564, 'recommend': 3197, 'add': 3719, 'make it': 582, 'improve': 282, 'want': 2885, 'should': 2027, 'please': 1472, 'provide': 242, 'allow': 716, 'would be better': 177, 'include': 250, 'suggest': 209, 'enhance': 16, 'request': 209}\n",
            "\n",
            "❌ Complaint Keyword Counts:\n",
            "{\"doesn't\": 3415, 'fail': 156, \"can't\": 4751, 'problem': 1355, 'uninstall': 602, 'ads': 1686, 'stuck': 258, 'issue': 1404, 'fix': 1342, 'slow': 326, 'bad': 1029, 'bug': 464, 'not working': 359, 'error': 299, 'broken': 238, 'crash': 58, 'glitch': 137, 'freeze': 33, 'hang': 38, 'lag': 26}\n"
          ]
        }
      ],
      "source": [
        "from google.colab import drive\n",
        "drive.mount('/content/drive')\n",
        "import pandas as pd\n",
        "\n",
        "# Change the path if your file is in a different folder\n",
        "file_path = '/content/drive/MyDrive/Health_Reviews/Combined_Cleaned_Reviews.csv'\n",
        "\n",
        "# Load the data\n",
        "df = pd.read_csv(file_path)\n",
        "\n",
        "# Show first few rows\n",
        "df.head()\n",
        "df.columns\n",
        "df.rename(columns={'YourColumnName': 'review'}, inplace=True)\n",
        "import re\n",
        "from collections import Counter\n",
        "\n",
        "suggestion_keywords = [\n",
        "    'add', 'include', 'suggest', 'should', 'please', 'feature', 'recommend',\n",
        "    'option', 'would be better', 'could', 'need', 'wish', 'want',\n",
        "    'request', 'provide', 'improve', 'enhance', 'make it', 'allow', 'support'\n",
        "]\n",
        "\n",
        "complaint_keywords = [\n",
        "    'issue', 'bug', 'error', 'problem', 'slow', 'crash', 'freeze',\n",
        "    'not working', 'ads', 'glitch', 'fail', \"doesn't\", \"can't\",\n",
        "    'bad', 'hang', 'stuck', 'uninstall', 'broken', 'fix', 'lag'\n",
        "]\n",
        "\n",
        "def count_keywords(text_series, keywords):\n",
        "    keyword_counts = Counter()\n",
        "    for text in text_series.dropna():\n",
        "        text_lower = text.lower()\n",
        "        for keyword in keywords:\n",
        "            # Using word boundaries to avoid partial matches\n",
        "            if re.search(rf'\\b{re.escape(keyword)}\\b', text_lower):\n",
        "                keyword_counts[keyword] += 1\n",
        "    return keyword_counts\n",
        "\n",
        "suggestion_counts = count_keywords(df['content'], suggestion_keywords)\n",
        "complaint_counts = count_keywords(df['content'], complaint_keywords)\n",
        "\n",
        "print(\"✅ Suggestion Keyword Counts:\")\n",
        "print(dict(suggestion_counts))\n",
        "print(\"\\n❌ Complaint Keyword Counts:\")\n",
        "print(dict(complaint_counts))\n",
        "\n",
        "\n",
        "\n",
        "\n"
      ]
    }
  ]
}