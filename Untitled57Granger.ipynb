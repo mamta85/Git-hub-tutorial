{
  "nbformat": 4,
  "nbformat_minor": 0,
  "metadata": {
    "colab": {
      "provenance": [],
      "authorship_tag": "ABX9TyMjM9oYYNirJ4/4y1YzPHcM",
      "include_colab_link": true
    },
    "kernelspec": {
      "name": "python3",
      "display_name": "Python 3"
    },
    "language_info": {
      "name": "python"
    }
  },
  "cells": [
    {
      "cell_type": "markdown",
      "metadata": {
        "id": "view-in-github",
        "colab_type": "text"
      },
      "source": [
        "<a href=\"https://colab.research.google.com/github/mamta85/Git-hub-tutorial/blob/master/Untitled57Granger.ipynb\" target=\"_parent\"><img src=\"https://colab.research.google.com/assets/colab-badge.svg\" alt=\"Open In Colab\"/></a>"
      ]
    },
    {
      "cell_type": "code",
      "execution_count": 1,
      "metadata": {
        "colab": {
          "base_uri": "https://localhost:8080/"
        },
        "id": "9F6x5F-Y2gKQ",
        "outputId": "bdcae26a-465f-41c7-f8ac-4d92cfc63459"
      },
      "outputs": [
        {
          "output_type": "stream",
          "name": "stdout",
          "text": [
            "Requirement already satisfied: statsmodels in /usr/local/lib/python3.11/dist-packages (0.14.4)\n",
            "Requirement already satisfied: numpy<3,>=1.22.3 in /usr/local/lib/python3.11/dist-packages (from statsmodels) (2.0.2)\n",
            "Requirement already satisfied: scipy!=1.9.2,>=1.8 in /usr/local/lib/python3.11/dist-packages (from statsmodels) (1.15.3)\n",
            "Requirement already satisfied: pandas!=2.1.0,>=1.4 in /usr/local/lib/python3.11/dist-packages (from statsmodels) (2.2.2)\n",
            "Requirement already satisfied: patsy>=0.5.6 in /usr/local/lib/python3.11/dist-packages (from statsmodels) (1.0.1)\n",
            "Requirement already satisfied: packaging>=21.3 in /usr/local/lib/python3.11/dist-packages (from statsmodels) (24.2)\n",
            "Requirement already satisfied: python-dateutil>=2.8.2 in /usr/local/lib/python3.11/dist-packages (from pandas!=2.1.0,>=1.4->statsmodels) (2.9.0.post0)\n",
            "Requirement already satisfied: pytz>=2020.1 in /usr/local/lib/python3.11/dist-packages (from pandas!=2.1.0,>=1.4->statsmodels) (2025.2)\n",
            "Requirement already satisfied: tzdata>=2022.7 in /usr/local/lib/python3.11/dist-packages (from pandas!=2.1.0,>=1.4->statsmodels) (2025.2)\n",
            "Requirement already satisfied: six>=1.5 in /usr/local/lib/python3.11/dist-packages (from python-dateutil>=2.8.2->pandas!=2.1.0,>=1.4->statsmodels) (1.17.0)\n",
            "\n",
            "Granger Causality\n",
            "number of lags (no zero) 1\n",
            "ssr based F test:         F=754.0294, p=0.0000  , df_denom=96, df_num=1\n",
            "ssr based chi2 test:   chi2=777.5928, p=0.0000  , df=1\n",
            "likelihood ratio test: chi2=215.9113, p=0.0000  , df=1\n",
            "parameter F test:         F=754.0294, p=0.0000  , df_denom=96, df_num=1\n",
            "\n",
            "Granger Causality\n",
            "number of lags (no zero) 2\n",
            "ssr based F test:         F=369.1000, p=0.0000  , df_denom=93, df_num=2\n",
            "ssr based chi2 test:   chi2=777.8883, p=0.0000  , df=2\n",
            "likelihood ratio test: chi2=214.6466, p=0.0000  , df=2\n",
            "parameter F test:         F=369.1000, p=0.0000  , df_denom=93, df_num=2\n",
            "\n",
            "Granger Causality\n",
            "number of lags (no zero) 3\n",
            "ssr based F test:         F=239.2849, p=0.0000  , df_denom=90, df_num=3\n",
            "ssr based chi2 test:   chi2=773.6880, p=0.0000  , df=3\n",
            "likelihood ratio test: chi2=212.8736, p=0.0000  , df=3\n",
            "parameter F test:         F=239.2849, p=0.0000  , df_denom=90, df_num=3\n"
          ]
        }
      ],
      "source": [
        "!pip install statsmodels\n",
        "import pandas as pd\n",
        "import numpy as np\n",
        "\n",
        "# Simulate 100 days of review logs\n",
        "np.random.seed(42)\n",
        "date_range = pd.date_range(start='2023-01-01', periods=100)\n",
        "\n",
        "# Simulated login and crash issues count per day\n",
        "login_issues = np.random.poisson(5, 100)\n",
        "crash_issues = np.roll(login_issues, 1) + np.random.poisson(1, 100)\n",
        "\n",
        "df = pd.DataFrame({\n",
        "    'date': date_range,\n",
        "    'login_issue': login_issues,\n",
        "    'crash': crash_issues\n",
        "}).set_index('date')\n",
        "\n",
        "df.head()\n",
        "from statsmodels.tsa.stattools import grangercausalitytests\n",
        "\n",
        "# Test if login_issue causes crash\n",
        "results = grangercausalitytests(df[['crash', 'login_issue']], maxlag=3)"
      ]
    }
  ]
}