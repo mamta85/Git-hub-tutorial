{
  "nbformat": 4,
  "nbformat_minor": 0,
  "metadata": {
    "colab": {
      "provenance": [],
      "authorship_tag": "ABX9TyMka3cqNlOzo8qxGOcxqHag",
      "include_colab_link": true
    },
    "kernelspec": {
      "name": "python3",
      "display_name": "Python 3"
    },
    "language_info": {
      "name": "python"
    }
  },
  "cells": [
    {
      "cell_type": "markdown",
      "metadata": {
        "id": "view-in-github",
        "colab_type": "text"
      },
      "source": [
        "<a href=\"https://colab.research.google.com/github/mamta85/Git-hub-tutorial/blob/master/Untitled43TFIDF.ipynb\" target=\"_parent\"><img src=\"https://colab.research.google.com/assets/colab-badge.svg\" alt=\"Open In Colab\"/></a>"
      ]
    },
    {
      "cell_type": "code",
      "execution_count": 4,
      "metadata": {
        "colab": {
          "base_uri": "https://localhost:8080/",
          "height": 575
        },
        "id": "yitwmQr9Zw7f",
        "outputId": "fe4c8180-70ee-4fca-9fc5-a5ad96bc3146"
      },
      "outputs": [
        {
          "output_type": "stream",
          "name": "stdout",
          "text": [
            "Drive already mounted at /content/drive; to attempt to forcibly remount, call drive.mount(\"/content/drive\", force_remount=True).\n",
            "📊 TF-IDF Scores for Issue-Related Keywords:\n",
            "      Keyword  TF-IDF Score\n",
            "0         ads      0.003629\n",
            "1     problem      0.002525\n",
            "2         bad      0.002331\n",
            "3       issue      0.002324\n",
            "4         fix      0.002292\n",
            "5   uninstall      0.001231\n",
            "6        slow      0.000954\n",
            "7         bug      0.000937\n",
            "8       error      0.000695\n",
            "9       stuck      0.000635\n",
            "10     broken      0.000518\n",
            "11       fail      0.000472\n",
            "12     glitch      0.000292\n",
            "13      crash      0.000167\n",
            "14       hang      0.000118\n",
            "15     freeze      0.000099\n",
            "16        lag      0.000072\n"
          ]
        },
        {
          "output_type": "error",
          "ename": "NameError",
          "evalue": "name 'issue_df' is not defined",
          "traceback": [
            "\u001b[0;31m---------------------------------------------------------------------------\u001b[0m",
            "\u001b[0;31mNameError\u001b[0m                                 Traceback (most recent call last)",
            "\u001b[0;32m<ipython-input-4-3098168788>\u001b[0m in \u001b[0;36m<cell line: 0>\u001b[0;34m()\u001b[0m\n\u001b[1;32m     52\u001b[0m \u001b[0;31m# Set up the figure\u001b[0m\u001b[0;34m\u001b[0m\u001b[0;34m\u001b[0m\u001b[0m\n\u001b[1;32m     53\u001b[0m \u001b[0mplt\u001b[0m\u001b[0;34m.\u001b[0m\u001b[0mfigure\u001b[0m\u001b[0;34m(\u001b[0m\u001b[0mfigsize\u001b[0m\u001b[0;34m=\u001b[0m\u001b[0;34m(\u001b[0m\u001b[0;36m10\u001b[0m\u001b[0;34m,\u001b[0m \u001b[0;36m6\u001b[0m\u001b[0;34m)\u001b[0m\u001b[0;34m)\u001b[0m\u001b[0;34m\u001b[0m\u001b[0;34m\u001b[0m\u001b[0m\n\u001b[0;32m---> 54\u001b[0;31m \u001b[0msns\u001b[0m\u001b[0;34m.\u001b[0m\u001b[0mbarplot\u001b[0m\u001b[0;34m(\u001b[0m\u001b[0mx\u001b[0m\u001b[0;34m=\u001b[0m\u001b[0;34m'TF-IDF Score'\u001b[0m\u001b[0;34m,\u001b[0m \u001b[0my\u001b[0m\u001b[0;34m=\u001b[0m\u001b[0;34m'Keyword'\u001b[0m\u001b[0;34m,\u001b[0m \u001b[0mdata\u001b[0m\u001b[0;34m=\u001b[0m\u001b[0missue_df\u001b[0m\u001b[0;34m,\u001b[0m \u001b[0mpalette\u001b[0m\u001b[0;34m=\u001b[0m\u001b[0;34m'Reds_r'\u001b[0m\u001b[0;34m)\u001b[0m\u001b[0;34m\u001b[0m\u001b[0;34m\u001b[0m\u001b[0m\n\u001b[0m\u001b[1;32m     55\u001b[0m \u001b[0mplt\u001b[0m\u001b[0;34m.\u001b[0m\u001b[0mtitle\u001b[0m\u001b[0;34m(\u001b[0m\u001b[0;34m'🔥 Top TF-IDF Scores for Issue Keywords'\u001b[0m\u001b[0;34m,\u001b[0m \u001b[0mfontsize\u001b[0m\u001b[0;34m=\u001b[0m\u001b[0;36m14\u001b[0m\u001b[0;34m)\u001b[0m\u001b[0;34m\u001b[0m\u001b[0;34m\u001b[0m\u001b[0m\n\u001b[1;32m     56\u001b[0m \u001b[0mplt\u001b[0m\u001b[0;34m.\u001b[0m\u001b[0mxlabel\u001b[0m\u001b[0;34m(\u001b[0m\u001b[0;34m'TF-IDF Score'\u001b[0m\u001b[0;34m)\u001b[0m\u001b[0;34m\u001b[0m\u001b[0;34m\u001b[0m\u001b[0m\n",
            "\u001b[0;31mNameError\u001b[0m: name 'issue_df' is not defined"
          ]
        },
        {
          "output_type": "display_data",
          "data": {
            "text/plain": [
              "<Figure size 1000x600 with 0 Axes>"
            ]
          },
          "metadata": {}
        }
      ],
      "source": [
        "# Step 1: Import required libraries\n",
        "import pandas as pd\n",
        "from sklearn.feature_extraction.text import TfidfVectorizer\n",
        "\n",
        "# Step 2: Mount Google Drive (if not already mounted)\n",
        "from google.colab import drive\n",
        "drive.mount('/content/drive')\n",
        "\n",
        "# Step 3: Load the reviews file\n",
        "file_path = \"/content/drive/MyDrive/Health_Reviews/Combined_Cleaned_Reviews.csv\"  # ✅ Update path\n",
        "df = pd.read_csv(file_path)\n",
        "\n",
        "# Step 4: Define the issue-related keywords\n",
        "issue_keywords = [\n",
        "    'issue', 'bug', 'error', 'problem', 'slow', 'crash', 'freeze',\n",
        "    'not working', 'ads', 'glitch', 'fail', \"doesn't\", \"can't\",\n",
        "    'bad', 'hang', 'stuck', 'uninstall', 'broken', 'fix', 'lag'\n",
        "]\n",
        "suggestion_keywords = [\n",
        "    'add', 'include', 'suggest', 'should', 'please', 'feature', 'recommend',\n",
        "    'option', 'would be better', 'could', 'need', 'wish', 'want',\n",
        "    'request', 'provide', 'improve', 'enhance', 'make it', 'allow', 'support'\n",
        "]\n",
        "\n",
        "# Step 5: Preprocess text data\n",
        "corpus = df['content'].astype(str).tolist()  # ✅ Update 'content' to your review column if needed\n",
        "\n",
        "# Step 6: Apply TF-IDF Vectorizer\n",
        "vectorizer = TfidfVectorizer(stop_words='english')\n",
        "X = vectorizer.fit_transform(corpus)\n",
        "feature_names = vectorizer.get_feature_names_out()\n",
        "tfidf_scores = X.mean(axis=0).A1  # Get average TF-IDF scores\n",
        "\n",
        "# Step 7: Create TF-IDF DataFrame\n",
        "tfidf_df = pd.DataFrame({\n",
        "    'Keyword': feature_names,\n",
        "    'TF-IDF Score': tfidf_scores\n",
        "})\n",
        "\n",
        "# Step 8: Filter for issue-related keywords\n",
        "filtered_df = tfidf_df[tfidf_df['Keyword'].isin([kw.lower() for kw in issue_keywords])]\n",
        "filtered_df = filtered_df.sort_values(by='TF-IDF Score', ascending=False).reset_index(drop=True)\n",
        "\n",
        "# Step 9: Display the filtered result\n",
        "print(\"📊 TF-IDF Scores for Issue-Related Keywords:\")\n",
        "print(filtered_df.to_string(index=True))\n",
        "\n",
        "# Step 10 (Optional): Save output to CSV\n",
        "filtered_df.to_csv(\"/content/drive/MyDrive/Health_Reviews/TFIDF_Issue_Keywords.csv\", index=False)\n"
      ]
    }
  ]
}